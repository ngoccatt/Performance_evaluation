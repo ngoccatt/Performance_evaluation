{
 "cells": [
  {
   "cell_type": "markdown",
   "metadata": {
    "id": "sidl8rN-gpnX"
   },
   "source": [
    "**Installation of SimPy\"\"\n",
    "If not available**"
   ]
  },
  {
   "cell_type": "code",
   "execution_count": 186,
   "metadata": {
    "colab": {
     "base_uri": "https://localhost:8080/",
     "height": 105
    },
    "id": "pKwPk03SfmJK",
    "outputId": "36ba5ba1-32bd-4328-851b-86bad702a048"
   },
   "outputs": [],
   "source": [
    "#!pip install simpy\n",
    "#!pip install numpy"
   ]
  },
  {
   "cell_type": "markdown",
   "metadata": {
    "id": "sK1Rcq_Nn7JU"
   },
   "source": [
    "**Import of required modules**"
   ]
  },
  {
   "cell_type": "code",
   "execution_count": 187,
   "metadata": {
    "id": "ZOd3WZaxoF6X"
   },
   "outputs": [],
   "source": [
    "import simpy\n",
    "import numpy as np\n",
    "import numpy.random as random"
   ]
  },
  {
   "cell_type": "markdown",
   "metadata": {
    "id": "RYQoyxyanvOF"
   },
   "source": [
    "**Parameters settings**"
   ]
  },
  {
   "cell_type": "code",
   "execution_count": 188,
   "metadata": {
    "id": "asVZg4Rhnszz"
   },
   "outputs": [],
   "source": [
    "MAXSIMTIME = 10000\n",
    "VERBOSE = False\n",
    "LAMBDA = 7\n",
    "MU = 8\n",
    "POPULATION = 50000000\n",
    "SERVICE_DISCIPLINE = 'FIFO'\n",
    "LOGGED = True\n",
    "PLOTTED = True"
   ]
  },
  {
   "cell_type": "markdown",
   "metadata": {
    "id": "7DTHSA8KoOee"
   },
   "source": [
    "**Discrete-Event Simulation model**\n"
   ]
  },
  {
   "cell_type": "markdown",
   "metadata": {
    "id": "febxQ9ZloffF"
   },
   "source": [
    "**The definition of a job**.\n",
    "\n",
    "The properties of a job are\n",
    "\n",
    "\n",
    "1. job execution time\n",
    "2. job arrival time"
   ]
  },
  {
   "cell_type": "code",
   "execution_count": 189,
   "metadata": {
    "id": "TEvUrP_ToXfJ"
   },
   "outputs": [],
   "source": [
    "class Job:\n",
    "    def __init__(self, name, arrtime, duration):\n",
    "        self.name = name\n",
    "        self.arrtime = arrtime\n",
    "        self.duration = duration\n",
    "\n",
    "    def __str__(self):\n",
    "        return '%s at %d, length %d' %(self.name, self.arrtime, self.duration)"
   ]
  },
  {
   "cell_type": "markdown",
   "metadata": {
    "id": "kY81H1JZot8D"
   },
   "source": [
    "**Disciplines**\n",
    "Different queue disciplines can be defined here.\n",
    "\n",
    "\n",
    "1.   Shortest Job First (SJF)\n",
    "2.   List item\n",
    "\n"
   ]
  },
  {
   "cell_type": "code",
   "execution_count": 190,
   "metadata": {
    "id": "48b26HGLo-u-"
   },
   "outputs": [],
   "source": [
    "def SJF( job ):\n",
    "    return job.duration"
   ]
  },
  {
   "cell_type": "markdown",
   "metadata": {
    "id": "8xrYAaF1pNQw"
   },
   "source": [
    "**The definition of server**\n",
    "\n",
    " There are 2 arguments needed for a server:\n",
    " 1. env: SimPy environment\n",
    " 2. queue discipline: \n",
    "   - FIFO: First In First Out\n",
    "   - SJF : Shortest Job First"
   ]
  },
  {
   "cell_type": "code",
   "execution_count": 191,
   "metadata": {
    "id": "-6HYojvLpyZY"
   },
   "outputs": [],
   "source": [
    "class Server:\n",
    "    def __init__(self, env, strat = 'FIFO'):\n",
    "        self.env = env\n",
    "        self.strat = strat\n",
    "        self.Jobs = list(())\n",
    "        self.serversleeping = None\n",
    "        self.serverRunning = None\n",
    "        ''' statistics '''\n",
    "        self.waitingTime = 0\n",
    "        self.squareWaitingTime = 0\n",
    "        self.idleTime = 0\n",
    "        self.jobsDone = 0\n",
    "        self.responseTime = 0\n",
    "        self.squareResponseTime = 0\n",
    "        self.firstService = 0\n",
    "        self.preRunPoint = 0\n",
    "        self.numOfJobInSys = 0\n",
    "        self.squareNumOfJobInSys = list()\n",
    "        self.numOfJobInQ = 0\n",
    "        self.squareNumOfJobInQ = list()\n",
    "        ''' register a new server process '''\n",
    "        env.process( self.serve() )\n",
    "\n",
    "    def serve(self):\n",
    "        while True:\n",
    "            ''' do nothing, just change server to idle\n",
    "              and then yield a wait event which takes infinite time\n",
    "            '''\n",
    "            if len( self.Jobs ) == 0 :\n",
    "                self.serversleeping = env.process( self.waiting( self.env ))\n",
    "                t1 = self.env.now\n",
    "                yield self.serversleeping\n",
    "                ''' accumulate the server idle time'''\n",
    "                self.idleTime += self.env.now - t1\n",
    "            else:\n",
    "                ''' get the first job to be served'''\n",
    "                if self.strat == 'SJF':\n",
    "                    self.Jobs.sort( key = SJF )\n",
    "                    j = self.Jobs.pop( 0 )\n",
    "                else: # FIFO by default\n",
    "                    j = self.Jobs.pop( 0 )\n",
    "                if LOGGED:\n",
    "                    qlog.write( '%.4f\\t%d\\t%d\\n' \n",
    "                        % (self.env.now, 1 if len(self.Jobs)>0 else 0, len(self.Jobs)) )\n",
    "\n",
    "                ''' sum up the waiting time'''\n",
    "                self.waitingTime += self.env.now - j.arrtime\n",
    "                self.squareWaitingTime += (self.env.now - j.arrtime)**2\n",
    "                ''' yield an event for the job finish'''\n",
    "                self.serverRunning = self.env.process(self.running(self.env, j.duration))\n",
    "                yield self.serverRunning\n",
    "                ''' sum up the jobs done '''\n",
    "                self.jobsDone += 1\n",
    "\n",
    "                # tinh response time\n",
    "                self.responseTime += self.env.now - j.arrtime\n",
    "                self.squareResponseTime += (self.env.now - j.arrtime)**2\n",
    "                # tinh khoang cach thoi gian\n",
    "                tempTime = self.env.now - self.preRunPoint\n",
    "                if tempTime < 0:\n",
    "                    raise Exception(\"tempTime < 0,\",tempTime)\n",
    "                # tong job trong he thong trong khoang thoi gian tempTime\n",
    "                self.numOfJobInSys += (len(self.Jobs) + 1) * tempTime\n",
    "                self.squareNumOfJobInSys.append((len(self.Jobs) + 1) * tempTime)\n",
    "                self.numOfJobInQ += len(self.Jobs) * tempTime\n",
    "                self.squareNumOfJobInQ.append(len(self.Jobs) * tempTime)\n",
    "                # cap nhat preRunPoint\n",
    "                self.preRunPoint = self.env.now\n",
    "\n",
    "    def waiting(self, env):\n",
    "        try:\n",
    "            if VERBOSE:\n",
    "                print( 'Server is idle at %.2f' % self.env.now )\n",
    "            yield self.env.timeout( MAXSIMTIME )\n",
    "        except simpy.Interrupt as i:\n",
    "            if VERBOSE:\n",
    "                 print('Server waken up and works at %.2f' % self.env.now )\n",
    "    def running(self, env, duration):\n",
    "        yield env.timeout(duration)"
   ]
  },
  {
   "cell_type": "markdown",
   "metadata": {
    "id": "O-nvQ8o_qHfn"
   },
   "source": [
    "**The arrival process**\n",
    "\n",
    "The arrival process is exponentially distributed which is parameterized by\n",
    "1. number of servers\n",
    "2. maximum number of population\n",
    "3. arrival rate $\\lambda$\n",
    "4. service rate $\\mu$\n",
    "*Note that, the implementation of the arrival process embeds both arrival and service distributions.*"
   ]
  },
  {
   "cell_type": "code",
   "execution_count": 192,
   "metadata": {
    "id": "R7nU8BkzqKr5"
   },
   "outputs": [],
   "source": [
    "class JobGenerator:\n",
    "    def __init__(self, env, server, nrjobs = 10000000, lam = 5, mu = 8):\n",
    "        self.server = server\n",
    "        self.nrjobs = nrjobs\n",
    "        self.interarrivaltime = 1/lam;\n",
    "        self.servicetime = 1/mu;\n",
    "        env.process( self.generatejobs(env) )\n",
    "        \n",
    "    def generatejobs(self, env):\n",
    "        i = 1\n",
    "        while True:\n",
    "            '''yield an event for new job arrival'''\n",
    "            job_interarrival = random.exponential( self.interarrivaltime )\n",
    "            yield env.timeout( job_interarrival )\n",
    "\n",
    "            tempTime = env.now - self.server.preRunPoint\n",
    "            if tempTime < 0:\n",
    "                raise Exception(\"tempTime < 0,\",tempTime)\n",
    "            if self.server.serverRunning is not None and not self.server.serverRunning.triggered:\n",
    "                self.server.numOfJobInSys += tempTime * (len(self.server.Jobs) + 1)\n",
    "                self.server.squareNumOfJobInSys.append((tempTime * len(self.server.Jobs) + 1))\n",
    "            else:\n",
    "                self.server.numOfJobInSys += tempTime * len(self.server.Jobs)\n",
    "                self.server.squareNumOfJobInSys.append(tempTime * len(self.server.Jobs))\n",
    "            \n",
    "\n",
    "            self.server.numOfJobInQ += tempTime * len(self.server.Jobs)\n",
    "            self.server.squareNumOfJobInQ.append(tempTime * len(self.server.Jobs))\n",
    "            self.server.preRunPoint = env.now\n",
    "\n",
    "            ''' generate service time and add job to the list'''\n",
    "            job_duration = random.exponential( self.servicetime )\n",
    "            self.server.Jobs.append( Job('Job %s' %i, env.now, job_duration) )\n",
    "            if VERBOSE:\n",
    "                print( 'job %d: t = %.2f, l = %.2f, dt = %.2f' \n",
    "                    %( i, env.now, job_duration, job_interarrival ) )\n",
    "            i += 1\n",
    "\n",
    "            ''' if server is idle, wake it up'''\n",
    "            if not self.server.serversleeping.triggered:\n",
    "                self.server.serversleeping.interrupt( 'Wake up, please.' )\n"
   ]
  },
  {
   "cell_type": "markdown",
   "metadata": {
    "id": "NxbCXAF1rMZ4"
   },
   "source": [
    "**Open the log file**\n",
    "\n",
    "If requested."
   ]
  },
  {
   "cell_type": "code",
   "execution_count": 193,
   "metadata": {
    "id": "aSjPUvGfrSJc"
   },
   "outputs": [],
   "source": [
    "if LOGGED:\n",
    "    qlog = open( 'mm1-l%d-m%d.csv' % (LAMBDA,MU), 'w' )\n",
    "    qlog.write( '0\\t0\\t0\\n' )"
   ]
  },
  {
   "cell_type": "markdown",
   "metadata": {
    "id": "k8WFQcQtrWws"
   },
   "source": [
    "**Start SimPy environment**"
   ]
  },
  {
   "cell_type": "code",
   "execution_count": 194,
   "metadata": {
    "id": "BO60ZKxjracy"
   },
   "outputs": [],
   "source": [
    "env = simpy.Environment()\n",
    "MyServer = Server( env, SERVICE_DISCIPLINE )\n",
    "MyJobGenerator = JobGenerator( env, MyServer, POPULATION, LAMBDA, MU )"
   ]
  },
  {
   "cell_type": "markdown",
   "metadata": {
    "id": "SlH3zUajre1W"
   },
   "source": [
    "**Run the simulation** "
   ]
  },
  {
   "cell_type": "code",
   "execution_count": 195,
   "metadata": {
    "id": "ZEBVpZLLriBS"
   },
   "outputs": [],
   "source": [
    "env.run( until = MAXSIMTIME )"
   ]
  },
  {
   "cell_type": "markdown",
   "metadata": {
    "id": "0Vl6BUoxrqBm"
   },
   "source": [
    "**Close the log file**"
   ]
  },
  {
   "cell_type": "code",
   "execution_count": 196,
   "metadata": {
    "id": "Y9FtIQ8lrt-7"
   },
   "outputs": [],
   "source": [
    "if LOGGED:\n",
    "    qlog.close()"
   ]
  },
  {
   "cell_type": "markdown",
   "metadata": {
    "id": "6FhfyIj4rxFs"
   },
   "source": [
    "**Print some statistics**"
   ]
  },
  {
   "cell_type": "code",
   "execution_count": 197,
   "metadata": {
    "colab": {
     "base_uri": "https://localhost:8080/",
     "height": 68
    },
    "id": "Dn4otA3srzw8",
    "outputId": "d7b30780-c809-49fd-90d2-4d387b4c8bca"
   },
   "outputs": [
    {
     "name": "stdout",
     "output_type": "stream",
     "text": [
      "Arrivals               : 70264\n",
      "Utilization            : 0.88/0.88\n",
      "Mean waiting time      : 0.87/0.88\n",
      "Variance of waiting time        0.9293243933790304/            0.984375\n",
      "Mean response time     : 0.99/1.00\n",
      "Variance of response time        0.9460443355739321/            1.0\n",
      "Mean number of jobs    : 6.96/7.00\n",
      "Mean number of jobs in queue : 6.08/6.12\n",
      "Mean time from arrival to first service : 0.865130\n",
      "Rate of number of jobsDone divided by total number of jobs : 0.999772\n",
      "Number of remain jobs : 16\n"
     ]
    }
   ],
   "source": [
    "RHO = LAMBDA/MU\n",
    "print( 'Arrivals               : %d' % (MyServer.jobsDone) )\n",
    "print( 'Utilization            : %.2f/%.2f' \n",
    "    % (1.0-MyServer.idleTime/MAXSIMTIME, RHO) )\n",
    "print( 'Mean waiting time      : %.2f/%.2f' \n",
    "    % (MyServer.waitingTime/MyServer.jobsDone, RHO**2/((1-RHO)*LAMBDA) ) )\n",
    "print (f'Variance of waiting time \\\n",
    "       {MyServer.squareWaitingTime/MyServer.jobsDone - (MyServer.waitingTime/MyServer.jobsDone)**2}/ \\\n",
    "           {((2-RHO)*RHO)/(MU**2 * (1 - RHO)**2)}')\n",
    "print( 'Mean response time     : %.2f/%.2f'\n",
    "    % (MyServer.responseTime/MyServer.jobsDone, (1/MU)/(1 - RHO)))\n",
    "print (f'Variance of response time \\\n",
    "       {MyServer.squareResponseTime/MyServer.jobsDone - (MyServer.responseTime/MyServer.jobsDone)**2}/ \\\n",
    "           {1/(MU**2 * (1 - RHO)**2)}')\n",
    "# print( 'Mean number of jobs    : %.2f/%.2f'\n",
    "#     % (LAMBDA * MyServer.responseTime / MyServer.jobsDone, RHO/(1 - RHO)))\n",
    "# print( 'Mean number of jobs in queue : %.2f/%.2f'\n",
    "#     % (LAMBDA * (MyServer.waitingTime/MyServer.jobsDone), RHO**2 / (1 - RHO)))\n",
    "print( 'Mean number of jobs    : %.2f/%.2f'\n",
    "    % (MyServer.numOfJobInSys / MAXSIMTIME, RHO/(1 - RHO)))\n",
    "# print( 'Variance number of jobs    : %.3f/%.3f'\n",
    "#     % (MyServer.squareNumOfJobInSys/MAXSIMTIME - (MyServer.numOfJobInSys / MAXSIMTIME)**2, \n",
    "#        RHO/(1 - RHO)**2))\n",
    "print( 'Mean number of jobs in queue : %.2f/%.2f'\n",
    "    % (MyServer.numOfJobInQ / MAXSIMTIME, RHO**2 / (1 - RHO)))\n",
    "# print( 'Variance number of jobs in queue    : %.3f/%.3f'\n",
    "#     % (MyServer.squareNumOfJobInQ/MAXSIMTIME - (MyServer.numOfJobInQ / MAXSIMTIME)**2, \n",
    "#        (RHO**2 * (1 + RHO - 2*RHO))/(1 - RHO)**2))\n",
    "print( 'Mean time from arrival to first service : %f'\n",
    "    % (MyServer.waitingTime / MyServer.jobsDone))\n",
    "print( 'Rate of number of jobsDone divided by total number of jobs : %f'\n",
    "    % (MyServer.jobsDone / (len(MyServer.Jobs) + MyServer.jobsDone)))  \n",
    "print( 'Number of remain jobs :', len(MyServer.Jobs))\n",
    "# for i in MyServer.Jobs:\n",
    "#     MyServer.responseTime += env.now - i.arrtime\n",
    "\n",
    "# print('new E[r]: ', MyServer.responseTime/(MyServer.jobsDone + len(MyServer.Jobs)))"
   ]
  },
  {
   "cell_type": "code",
   "execution_count": 198,
   "metadata": {},
   "outputs": [
    {
     "name": "stdout",
     "output_type": "stream",
     "text": [
      "6.957144911432909\n",
      "6.080591572196757\n",
      "Variance number of jobs    : 37.567/56.000\n",
      "Variance number of jobs in queue    : 32.547/54.359\n"
     ]
    }
   ],
   "source": [
    "squareOfDifferentSys = 0\n",
    "squareOfDifferentQ = 0\n",
    "length = len(MyServer.squareNumOfJobInSys)\n",
    "meanSys = MyServer.numOfJobInSys / MAXSIMTIME\n",
    "print(meanSys, )\n",
    "meanQ = MyServer.numOfJobInQ / MAXSIMTIME\n",
    "print(meanQ, )\n",
    "for i in range(0, len(MyServer.squareNumOfJobInSys)):\n",
    "    squareOfDifferentSys += (MyServer.squareNumOfJobInSys[i] - meanSys)**2\n",
    "    squareOfDifferentQ += (MyServer.squareNumOfJobInQ[i] - meanQ)**2\n",
    "print( 'Variance number of jobs    : %.3f/%.3f'\n",
    "    % (squareOfDifferentSys / length, \n",
    "       RHO/(1 - RHO)**2))\n",
    "print( 'Variance number of jobs in queue    : %.3f/%.3f'\n",
    "    % (squareOfDifferentQ / length, \n",
    "       (RHO**2 * (1 + RHO - RHO**2))/(1 - RHO)**2))"
   ]
  },
  {
   "cell_type": "code",
   "execution_count": 199,
   "metadata": {},
   "outputs": [
    {
     "data": {
      "text/plain": [
       "483970.2513214496"
      ]
     },
     "execution_count": 199,
     "metadata": {},
     "output_type": "execute_result"
    }
   ],
   "source": [
    "MyServer.numOfJobInSys**2/MAXSIMTIME - (MyServer.numOfJobInSys / MAXSIMTIME)**2"
   ]
  },
  {
   "cell_type": "markdown",
   "metadata": {
    "id": "KsYgIPPNr2u5"
   },
   "source": [
    "**Plot the statistics**"
   ]
  },
  {
   "cell_type": "code",
   "execution_count": 200,
   "metadata": {
    "colab": {
     "base_uri": "https://localhost:8080/",
     "height": 297
    },
    "id": "Bq3SlNxEr4li",
    "outputId": "8d04e372-2591-4b87-d8dd-c4652fecea6e"
   },
   "outputs": [
    {
     "data": {
      "image/png": "[encoded data removed]",
      "text/plain": [
       "<Figure size 640x480 with 2 Axes>"
      ]
     },
     "metadata": {},
     "output_type": "display_data"
    }
   ],
   "source": [
    "if LOGGED and PLOTTED:\n",
    "    import matplotlib.pyplot as plt\n",
    "    log = np.loadtxt( 'mm1-l%d-m%d.csv' % (LAMBDA,MU), delimiter = '\\t' )\n",
    "    plt.subplot( 2, 1, 1 )\n",
    "    plt.xlabel( 'Time' )\n",
    "    plt.ylabel( 'Queue length' )\n",
    "    plt.step( log[:200,0], log[:200,2], where='post' )\n",
    "    plt.subplot( 2, 1, 2 )\n",
    "    plt.xlabel( 'Time' )\n",
    "    plt.ylabel( 'Server state' )\n",
    "    plt.yticks([0, 1], ['idle', 'busy'])\n",
    "    #plt.step( log[:200,0], log[:200,1], where='post' )\n",
    "    plt.fill_between( log[:200,0], 0, log[:200,1], step=\"post\", alpha=.4 )\n",
    "    plt.tight_layout()\n",
    "    plt.show()"
   ]
  },
  {
   "cell_type": "code",
   "execution_count": null,
   "metadata": {
    "id": "iJB9U_uQscYg"
   },
   "outputs": [],
   "source": []
  }
 ],
 "metadata": {
  "colab": {
   "collapsed_sections": [],
   "name": "MM1.ipynb",
   "provenance": []
  },
  "kernelspec": {
   "display_name": "Python 3.10.8 64-bit",
   "language": "python",
   "name": "python3"
  },
  "language_info": {
   "codemirror_mode": {
    "name": "ipython",
    "version": 3
   },
   "file_extension": ".py",
   "mimetype": "text/x-python",
   "name": "python",
   "nbconvert_exporter": "python",
   "pygments_lexer": "ipython3",
   "version": "3.10.8"
  },
  "vscode": {
   "interpreter": {
    "hash": "d7ad494c573f839ad9b31fd743e0288e1da7943f8d02a7d9dd66791bf117e9e2"
   }
  }
 },
 "nbformat": 4,
 "nbformat_minor": 4
}
